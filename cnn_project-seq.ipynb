{
 "cells": [
  {
   "cell_type": "code",
   "execution_count": 1,
   "source": [
    "import numpy as np\r\n",
    "import pandas as pd\r\n",
    "import os\r\n",
    "import keras\r\n",
    "import tensorflow as tf\r\n",
    "from datetime import datetime\r\n",
    "from tensorflow.keras import layers \r\n",
    "from tensorflow.keras import Model \r\n",
    "from tensorflow.keras.layers import *\r\n",
    "import matplotlib.pyplot as plt"
   ],
   "outputs": [],
   "metadata": {}
  },
  {
   "cell_type": "code",
   "execution_count": null,
   "source": [
    "# # use for google Colab\r\n",
    "\r\n",
    "# from google.colab import drive\r\n",
    "# drive.mount('/content/drive')\r\n"
   ],
   "outputs": [],
   "metadata": {}
  },
  {
   "cell_type": "code",
   "execution_count": null,
   "source": [
    "# use for google Colab\r\n",
    "# !ls /content/drive/MyDrive/Regex_CNN_Project/dataset # check the folder TRAIN and TEST show using ls / dir  "
   ],
   "outputs": [],
   "metadata": {}
  },
  {
   "cell_type": "code",
   "execution_count": null,
   "source": [
    "# use for google Colab\r\n",
    "# !cd /content/drive/MyDrive/Regex_CNN_Project"
   ],
   "outputs": [],
   "metadata": {}
  },
  {
   "cell_type": "code",
   "execution_count": 2,
   "source": [
    "data_dir = '/content/drive/MyDrive/Regex_CNN_Project/dataset/' # use for google Colab\r\n",
    "# data_dir = './dataset/'\r\n",
    "train_dir = data_dir + 'TRAIN'\r\n",
    "test_dir = data_dir + 'TEST'\r\n",
    "# parameters\r\n",
    "img_width, img_height = 224, 224  # dimensions to which the images will be resized\r\n",
    "batch_size = 32\r\n",
    "num_epochs = 32\r\n",
    "num_classes = 6  #categories of trash"
   ],
   "outputs": [],
   "metadata": {}
  },
  {
   "cell_type": "code",
   "execution_count": 3,
   "source": [
    "from keras_preprocessing.image import ImageDataGenerator\r\n",
    "train_data_gen = ImageDataGenerator(rescale=1.0/255, shear_range = 0.2, zoom_range = 0.2, horizontal_flip=True,rotation_range=30, validation_split=0.2,\r\n",
    "width_shift_range=0.2, height_shift_range=0.2)\r\n",
    "test_data_gen = ImageDataGenerator(rescale=1.0/255)"
   ],
   "outputs": [],
   "metadata": {}
  },
  {
   "cell_type": "code",
   "execution_count": 4,
   "source": [
    "train_data = train_data_gen.flow_from_directory(train_dir, target_size = (img_width, img_height), batch_size = batch_size, class_mode=\"categorical\",subset='training')\r\n",
    "\r\n",
    "valid_data = train_data_gen.flow_from_directory(train_dir, target_size = (img_width, img_height), batch_size = batch_size, class_mode=\"categorical\",subset='validation')\r\n",
    "\r\n",
    "test_data = test_data_gen.flow_from_directory(test_dir, target_size = (img_width, img_height), batch_size = batch_size, class_mode=\"categorical\")\r\n"
   ],
   "outputs": [
    {
     "output_type": "stream",
     "name": "stdout",
     "text": [
      "Found 1603 images belonging to 6 classes.\n",
      "Found 398 images belonging to 6 classes.\n",
      "Found 0 images belonging to 0 classes.\n"
     ]
    }
   ],
   "metadata": {}
  },
  {
   "cell_type": "code",
   "execution_count": 5,
   "source": [
    "train_data.class_indices"
   ],
   "outputs": [
    {
     "output_type": "execute_result",
     "data": {
      "text/plain": [
       "{'cardboard': 0, 'glass': 1, 'metal': 2, 'paper': 3, 'plastic': 4, 'trash': 5}"
      ]
     },
     "metadata": {},
     "execution_count": 5
    }
   ],
   "metadata": {}
  },
  {
   "cell_type": "code",
   "execution_count": 6,
   "source": [
    "train_data.image_shape"
   ],
   "outputs": [
    {
     "output_type": "execute_result",
     "data": {
      "text/plain": [
       "(224, 224, 3)"
      ]
     },
     "metadata": {},
     "execution_count": 6
    }
   ],
   "metadata": {}
  },
  {
   "cell_type": "code",
   "execution_count": 7,
   "source": [
    "def timer(start_time=None):\r\n",
    "    if not start_time:\r\n",
    "        print(datetime.now())\r\n",
    "        start_time = datetime.now()\r\n",
    "        return start_time\r\n",
    "    elif start_time:\r\n",
    "        thour, temp_sec = divmod((datetime.now() - start_time).total_seconds(), 3600)\r\n",
    "        tmin, tsec = divmod(temp_sec, 60)\r\n",
    "        print('Time taken: %i hours %i minutes and %s seconds.' % (thour, tmin, round(tsec, 2)))"
   ],
   "outputs": [],
   "metadata": {}
  },
  {
   "cell_type": "code",
   "execution_count": null,
   "source": [
    "model = Sequential()\r\n"
   ],
   "outputs": [],
   "metadata": {}
  }
 ],
 "metadata": {
  "kernelspec": {
   "display_name": "Python 3",
   "language": "python",
   "name": "python3"
  },
  "language_info": {
   "codemirror_mode": {
    "name": "ipython",
    "version": 3
   },
   "file_extension": ".py",
   "mimetype": "text/x-python",
   "name": "python",
   "nbconvert_exporter": "python",
   "pygments_lexer": "ipython3",
   "version": "3.8.8"
  }
 },
 "nbformat": 4,
 "nbformat_minor": 5
}